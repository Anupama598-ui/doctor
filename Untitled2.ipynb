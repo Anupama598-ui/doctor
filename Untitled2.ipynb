{
  "nbformat": 4,
  "nbformat_minor": 0,
  "metadata": {
    "colab": {
      "provenance": [],
      "authorship_tag": "ABX9TyMiOLDpqeBkWXdcYFORtKfn",
      "include_colab_link": true
    },
    "kernelspec": {
      "name": "python3",
      "display_name": "Python 3"
    },
    "language_info": {
      "name": "python"
    }
  },
  "cells": [
    {
      "cell_type": "markdown",
      "metadata": {
        "id": "view-in-github",
        "colab_type": "text"
      },
      "source": [
        "<a href=\"https://colab.research.google.com/github/Anupama598-ui/doctor/blob/main/Untitled2.ipynb\" target=\"_parent\"><img src=\"https://colab.research.google.com/assets/colab-badge.svg\" alt=\"Open In Colab\"/></a>"
      ]
    },
    {
      "cell_type": "code",
      "execution_count": 3,
      "metadata": {
        "colab": {
          "base_uri": "https://localhost:8080/"
        },
        "id": "3GozmaDZByQV",
        "outputId": "c283e6f9-a519-405f-f967-844438c94073"
      },
      "outputs": [
        {
          "output_type": "execute_result",
          "data": {
            "text/plain": [
              "1.7"
            ]
          },
          "metadata": {},
          "execution_count": 3
        }
      ],
      "source": [
        "round(1.68,1)"
      ]
    },
    {
      "cell_type": "code",
      "source": [
        "def my_function():\n",
        "  print(\"Hello From My Function!\")\n",
        "my_function()"
      ],
      "metadata": {
        "colab": {
          "base_uri": "https://localhost:8080/"
        },
        "id": "pZniDu96CqyF",
        "outputId": "e6f97652-9df2-43bf-be34-71f3dcbac956"
      },
      "execution_count": 11,
      "outputs": [
        {
          "output_type": "stream",
          "name": "stdout",
          "text": [
            "Hello From My Function!\n"
          ]
        }
      ]
    },
    {
      "cell_type": "code",
      "source": [
        "def square(n):\n",
        "  '''This function calculates the square of a given number'''\n",
        "  res = n *n\n",
        "  print(\"square(\",n,\") = \" , res)\n",
        "num = int(input(\"Enter a number\"))\n",
        "square(num)"
      ],
      "metadata": {
        "colab": {
          "base_uri": "https://localhost:8080/"
        },
        "id": "1mJnNuSWD1gN",
        "outputId": "8ff5b2b5-423c-417e-df83-07194c3a9e54"
      },
      "execution_count": 13,
      "outputs": [
        {
          "output_type": "stream",
          "name": "stdout",
          "text": [
            "Enter a number2\n",
            "square( 2 ) =  4\n"
          ]
        }
      ]
    },
    {
      "cell_type": "code",
      "source": [
        "def square(n):\n",
        "  res = n * n\n",
        "  return res\n",
        "num = int(input(\"Enter a Number\"))\n",
        "res = square(num)\n",
        "print(\"Square of\",num,\"=\",res)"
      ],
      "metadata": {
        "colab": {
          "base_uri": "https://localhost:8080/"
        },
        "id": "6jQyJktAFQDN",
        "outputId": "b9d1b2e3-01ca-4309-db17-506b8097558c"
      },
      "execution_count": 14,
      "outputs": [
        {
          "output_type": "stream",
          "name": "stdout",
          "text": [
            "Enter a Number5\n",
            "Square of 5 = 25\n"
          ]
        }
      ]
    },
    {
      "cell_type": "code",
      "source": [
        "def add(a , b):\n",
        "  total = a + b\n",
        "  print('Total = ' , total)\n",
        "add(4 , 9)"
      ],
      "metadata": {
        "colab": {
          "base_uri": "https://localhost:8080/"
        },
        "id": "e2wTwdj2HE4O",
        "outputId": "585685bb-d54c-4673-b4f0-f557f306f320"
      },
      "execution_count": 18,
      "outputs": [
        {
          "output_type": "stream",
          "name": "stdout",
          "text": [
            "Total =  13\n"
          ]
        }
      ]
    },
    {
      "cell_type": "code",
      "source": [
        "total = 0\n",
        "def add(a , b):\n",
        "  global total\n",
        "  total = a + b\n",
        "  print('Inside add Total = ' , total)\n",
        "add(4 , 9)\n",
        "print('Main Block Total = ' , total)"
      ],
      "metadata": {
        "colab": {
          "base_uri": "https://localhost:8080/"
        },
        "id": "8ld8jh3mHuPl",
        "outputId": "424c9217-eb70-43b8-b8d5-4438ca6e7ed0"
      },
      "execution_count": 22,
      "outputs": [
        {
          "output_type": "stream",
          "name": "stdout",
          "text": [
            "Inside add Total =  13\n",
            "Main Block Total =  13\n"
          ]
        }
      ]
    },
    {
      "cell_type": "code",
      "source": [
        "def calculateTotal(amount , discountPercentage = 0):\n",
        "  discountAmount = discountPercentage / 100 * amount\n",
        "  return amount - discountAmount\n",
        "amount = 500\n",
        "totalBillAmount = calculateTotal(amount , 10)\n",
        "print(totalBillAmount)\n",
        "amount = 500\n",
        "totalBillAmount = calculateTotal(amount)\n",
        "print(totalBillAmount)"
      ],
      "metadata": {
        "colab": {
          "base_uri": "https://localhost:8080/"
        },
        "id": "SHG1djqkIDAF",
        "outputId": "e29efd51-0c25-471c-e47d-15efdf02a5d9"
      },
      "execution_count": 23,
      "outputs": [
        {
          "output_type": "stream",
          "name": "stdout",
          "text": [
            "450.0\n",
            "500.0\n"
          ]
        }
      ]
    },
    {
      "cell_type": "code",
      "source": [
        "def fun(a,b,c):\n",
        "  print(\"a = \" , a)\n",
        "  print(\"b = \" , b)\n",
        "  print(\"c = \" , c)\n",
        "fun(5,10,15)"
      ],
      "metadata": {
        "colab": {
          "base_uri": "https://localhost:8080/"
        },
        "id": "GrTAR7rUK5YH",
        "outputId": "46123059-3e91-4f45-d0f9-385b04d1eaf3"
      },
      "execution_count": 26,
      "outputs": [
        {
          "output_type": "stream",
          "name": "stdout",
          "text": [
            "a =  5\n",
            "b =  10\n",
            "c =  15\n"
          ]
        }
      ]
    },
    {
      "cell_type": "code",
      "source": [
        "def mymax(a,*b):\n",
        "  small = a\n",
        "  for ele in b:\n",
        "      if ele < small:\n",
        "          small = ele\n",
        "  return small\n",
        "print(mymax(4,5,7,3,1,8,2,))"
      ],
      "metadata": {
        "colab": {
          "base_uri": "https://localhost:8080/"
        },
        "id": "5pZItJnRMTkh",
        "outputId": "777727dc-07be-499b-eb4a-86d37046b1c4"
      },
      "execution_count": 29,
      "outputs": [
        {
          "output_type": "stream",
          "name": "stdout",
          "text": [
            "1\n"
          ]
        }
      ]
    },
    {
      "cell_type": "code",
      "source": [
        "def multiply(x , y):\n",
        "  return x * y\n",
        "a = 4\n",
        "b = 7\n",
        "operation = multiply\n",
        "print(operation(a,b))"
      ],
      "metadata": {
        "colab": {
          "base_uri": "https://localhost:8080/"
        },
        "id": "qu0AttBdOXFh",
        "outputId": "63e83708-af7e-4598-b84f-8418bc911a00"
      },
      "execution_count": 30,
      "outputs": [
        {
          "output_type": "stream",
          "name": "stdout",
          "text": [
            "28\n"
          ]
        }
      ]
    },
    {
      "cell_type": "code",
      "source": [
        "def add(a,b):\n",
        "  print(\"Add\")\n",
        "  return a + b\n",
        "def sub(a,b):\n",
        "  print(\"Sub\")\n",
        "  return a - b\n",
        "def mul(a,b):\n",
        "  print(\"Multiply\")\n",
        "  return a * b\n",
        "def div(a,b):\n",
        "  print(\"Divide\")\n",
        "  return a / b\n",
        "print(\"Arithmetic Operations \")\n",
        "print(\"Enter Two Numbers \")\n",
        "a = int(input())\n",
        "b = int(input())\n",
        "print(\"1.Add 2.Sub 3.Multiply 4.Divide\")\n",
        "ch = int(input())\n",
        "if ch == 1:\n",
        "  calculate = add\n",
        "elif ch == 2:\n",
        "  calculate = sub\n",
        "elif ch == 3:\n",
        "  calculate = mul\n",
        "else:\n",
        "  calculate = div\n",
        "res = calculate(a, b)\n",
        "print(res)\n"
      ],
      "metadata": {
        "colab": {
          "base_uri": "https://localhost:8080/"
        },
        "id": "TwDJoOh2YlgE",
        "outputId": "e89e8748-59b2-46ee-bbcb-e25621cfe8ce"
      },
      "execution_count": 35,
      "outputs": [
        {
          "output_type": "stream",
          "name": "stdout",
          "text": [
            "Arithmetic Operations \n",
            "Enter Two Numbers \n",
            "2\n",
            "3\n",
            "1.Add 2.Sub 3.Multiply 4.Divide\n",
            "1\n",
            "Add\n",
            "5\n"
          ]
        }
      ]
    },
    {
      "cell_type": "code",
      "source": [],
      "metadata": {
        "id": "uR_xA1MjiWun"
      },
      "execution_count": null,
      "outputs": []
    },
    {
      "cell_type": "code",
      "source": [
        "print(\"Welcome to Hotel TAJ\")\n",
        "print(\"1.Idly   - 10/-/n 2.Dosa   - 50/-/n 3.Puri   -20/-\\n 4.vada   -25/-\")\n",
        "ch=int(input(\"enter the order=\"))\n",
        "q=int(input(\"enter the quantity=\"))\n",
        "if ch==1:\n",
        "  calculate =q*10\n",
        "elif ch== 2 :\n",
        "  calculate=q*50\n",
        "elif ch==3:\n",
        "  calculate=q*20\n",
        "elif ch==4:\n",
        "  calculate=q*25\n",
        "print(\"total amount = \",calculate)"
      ],
      "metadata": {
        "colab": {
          "base_uri": "https://localhost:8080/"
        },
        "id": "vnjmM-l1gqsF",
        "outputId": "1b9e900f-2c86-4d60-e8d8-575f8fa5ef8d"
      },
      "execution_count": 39,
      "outputs": [
        {
          "output_type": "stream",
          "name": "stdout",
          "text": [
            "Welcome to Hotel TAJ\n",
            "1.Idly   - 10/-/n 2.Dosa   - 50/-/n 3.Puri   -20/-\n",
            " 4.vada   -25/-\n",
            "enter the order=1\n",
            "enter the quantity=2\n",
            "total amount =  20\n"
          ]
        }
      ]
    },
    {
      "cell_type": "code",
      "source": [
        "math = 45\n",
        "science = 23\n",
        "social = 28\n",
        "marksList = [math , science , social]\n",
        "print(marksList)"
      ],
      "metadata": {
        "colab": {
          "base_uri": "https://localhost:8080/"
        },
        "id": "Hjzm5kV61UmM",
        "outputId": "05653c93-8492-4ba7-eef4-8bfb780e4412"
      },
      "execution_count": 42,
      "outputs": [
        {
          "output_type": "stream",
          "name": "stdout",
          "text": [
            "[45, 23, 28]\n"
          ]
        }
      ]
    },
    {
      "cell_type": "code",
      "source": [
        "print(marksList)\n",
        "print(marksList[0])\n",
        "print(marksList[-1])\n"
      ],
      "metadata": {
        "colab": {
          "base_uri": "https://localhost:8080/"
        },
        "id": "feY-XKyj2Poc",
        "outputId": "6d868053-9b9a-4b04-f5c0-3a1b6f998aa0"
      },
      "execution_count": 44,
      "outputs": [
        {
          "output_type": "stream",
          "name": "stdout",
          "text": [
            "[45, 23, 28]\n",
            "45\n",
            "28\n"
          ]
        }
      ]
    }
  ]
}